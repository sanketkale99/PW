{
 "cells": [
  {
   "cell_type": "markdown",
   "id": "ff1ac965-5b02-4c4f-b844-5649abe5b67b",
   "metadata": {},
   "source": [
    "1.Calculate the sum, difference, product, and quotient of two numbers."
   ]
  },
  {
   "cell_type": "code",
   "execution_count": 1,
   "id": "b28b200e-cbc1-442c-885b-6f8d4e6c5663",
   "metadata": {},
   "outputs": [],
   "source": [
    "n1=5\n",
    "n2=8"
   ]
  },
  {
   "cell_type": "code",
   "execution_count": 10,
   "id": "b7a4a40c-0e73-4d59-83a3-2a7298cfa593",
   "metadata": {},
   "outputs": [],
   "source": [
    "res=n1+n2  #sum"
   ]
  },
  {
   "cell_type": "code",
   "execution_count": 8,
   "id": "c1efa938-9f62-4e80-8402-9ad5995bc695",
   "metadata": {},
   "outputs": [
    {
     "name": "stdout",
     "output_type": "stream",
     "text": [
      "13\n"
     ]
    }
   ],
   "source": [
    "print(res)"
   ]
  },
  {
   "cell_type": "code",
   "execution_count": 11,
   "id": "570b0801-ecac-40ef-9e88-5cd7ea2367d2",
   "metadata": {},
   "outputs": [
    {
     "data": {
      "text/plain": [
       "-3"
      ]
     },
     "execution_count": 11,
     "metadata": {},
     "output_type": "execute_result"
    }
   ],
   "source": [
    "n1-n2  #difference"
   ]
  },
  {
   "cell_type": "code",
   "execution_count": 13,
   "id": "8e5b1638-ac64-429a-87f4-e1a9cf724406",
   "metadata": {},
   "outputs": [
    {
     "data": {
      "text/plain": [
       "40"
      ]
     },
     "execution_count": 13,
     "metadata": {},
     "output_type": "execute_result"
    }
   ],
   "source": [
    "#product\n",
    "n1*n2"
   ]
  },
  {
   "cell_type": "code",
   "execution_count": 39,
   "id": "80f59d03-43c3-4e0a-89a0-33f5a6b5197c",
   "metadata": {},
   "outputs": [],
   "source": [
    "#quotient\n",
    "\n",
    "if n2 != 0:\n",
    "        div=n1 / n2\n",
    "else:\n",
    "    din=\"Division by zero is undefined\"\n",
    "    "
   ]
  },
  {
   "cell_type": "code",
   "execution_count": 37,
   "id": "d6d5e529-f5b2-4f45-94ee-50818cb3d984",
   "metadata": {},
   "outputs": [
    {
     "data": {
      "text/plain": [
       "0.625"
      ]
     },
     "execution_count": 37,
     "metadata": {},
     "output_type": "execute_result"
    }
   ],
   "source": [
    "div"
   ]
  },
  {
   "cell_type": "markdown",
   "id": "276934aa-ba8a-4e09-a391-02b17ab13879",
   "metadata": {},
   "source": [
    "2.Perform various assignment operations on a variable."
   ]
  },
  {
   "cell_type": "code",
   "execution_count": 71,
   "id": "6a0b7555-1db2-457a-8404-50b5fc6bfcab",
   "metadata": {},
   "outputs": [],
   "source": [
    "var =10"
   ]
  },
  {
   "cell_type": "code",
   "execution_count": 72,
   "id": "41a15915-4714-426f-99e9-43e89ad6c26c",
   "metadata": {},
   "outputs": [],
   "source": [
    "var += 4"
   ]
  },
  {
   "cell_type": "code",
   "execution_count": 73,
   "id": "f1429797-de33-4fd5-8930-8911a9f491f7",
   "metadata": {},
   "outputs": [
    {
     "data": {
      "text/plain": [
       "14"
      ]
     },
     "execution_count": 73,
     "metadata": {},
     "output_type": "execute_result"
    }
   ],
   "source": [
    "var"
   ]
  },
  {
   "cell_type": "code",
   "execution_count": 74,
   "id": "7d15d5e4-561d-4f3e-8b06-8bbe1c99eb88",
   "metadata": {},
   "outputs": [],
   "source": [
    "var -= 5"
   ]
  },
  {
   "cell_type": "code",
   "execution_count": 75,
   "id": "2b79e30e-d148-4e16-a8ff-6601c6370860",
   "metadata": {},
   "outputs": [
    {
     "data": {
      "text/plain": [
       "9"
      ]
     },
     "execution_count": 75,
     "metadata": {},
     "output_type": "execute_result"
    }
   ],
   "source": [
    "var"
   ]
  },
  {
   "cell_type": "code",
   "execution_count": 76,
   "id": "eafa8ba4-9b08-4f5d-a562-b60ef0deb437",
   "metadata": {},
   "outputs": [],
   "source": [
    "var *= 3"
   ]
  },
  {
   "cell_type": "code",
   "execution_count": 77,
   "id": "3ee0e832-1d60-45d8-8797-f30622d4dbfa",
   "metadata": {},
   "outputs": [
    {
     "data": {
      "text/plain": [
       "27"
      ]
     },
     "execution_count": 77,
     "metadata": {},
     "output_type": "execute_result"
    }
   ],
   "source": [
    "var"
   ]
  },
  {
   "cell_type": "code",
   "execution_count": 78,
   "id": "6b79b9e6-197e-49d6-aefd-178dc6cf76c4",
   "metadata": {},
   "outputs": [],
   "source": [
    "var /=5"
   ]
  },
  {
   "cell_type": "code",
   "execution_count": 79,
   "id": "ce80c7cb-560d-4802-a7ec-dc8f7186cbee",
   "metadata": {},
   "outputs": [
    {
     "data": {
      "text/plain": [
       "5.4"
      ]
     },
     "execution_count": 79,
     "metadata": {},
     "output_type": "execute_result"
    }
   ],
   "source": [
    "var"
   ]
  },
  {
   "cell_type": "markdown",
   "id": "185ef92c-14d0-48d5-981e-a14b2ed7296f",
   "metadata": {},
   "source": [
    "3. Compare two numbers and print the results."
   ]
  },
  {
   "cell_type": "code",
   "execution_count": 27,
   "id": "d9695126-17a0-4a4f-8830-8ed5b5ae69c4",
   "metadata": {},
   "outputs": [
    {
     "name": "stdout",
     "output_type": "stream",
     "text": [
      "number2 is greater tha number1\n"
     ]
    }
   ],
   "source": [
    "number1=20\n",
    "number2=23\n",
    "if number1>number2:\n",
    "    print(\"number1 is greater than number2\")\n",
    "elif number1==number2:\n",
    "    print(\"Both numbers are same\")\n",
    "else:\n",
    "    print(\"number2 is greater tha number1\")\n"
   ]
  },
  {
   "cell_type": "markdown",
   "id": "68fe8737-22af-4ba8-96e4-4a315aa195ae",
   "metadata": {},
   "source": [
    "4. Check conditions using logical operators."
   ]
  },
  {
   "cell_type": "code",
   "execution_count": 6,
   "id": "9c45f3ce-3575-4ec5-b135-c8f3779a6ba4",
   "metadata": {},
   "outputs": [
    {
     "name": "stdout",
     "output_type": "stream",
     "text": [
      "num1 is not greater than num2\n"
     ]
    }
   ],
   "source": [
    "num1=2\n",
    "num2=3443\n",
    "num3=30\n",
    "\n",
    "if num1<num2 and num2<num3:\n",
    "    print(\"num1 is less than num2 and nunm2 is leass than num3\")\n",
    "elif num1==num2 or num2==num3:\n",
    "    print(\"Either num1 is equal to num2, or num2 is equal to num3.\")\n",
    "elif not(num1>num2):\n",
    "    print(\"num1 is not greater than num2\")\n",
    "else:\n",
    "    print(\"None of above condition is true\")"
   ]
  },
  {
   "cell_type": "markdown",
   "id": "4ea379cd-7d32-43a6-b6a2-fdd5881d4d56",
   "metadata": {},
   "source": [
    "5.Check the identity of variables."
   ]
  },
  {
   "cell_type": "code",
   "execution_count": 15,
   "id": "ae1f54d6-71c5-4a7a-9c0c-21a7ba0d59ba",
   "metadata": {},
   "outputs": [],
   "source": [
    "a=3\n",
    "b=7"
   ]
  },
  {
   "cell_type": "code",
   "execution_count": 16,
   "id": "1e17ca3e-16bd-4db7-9782-a91d0a7a4408",
   "metadata": {},
   "outputs": [
    {
     "data": {
      "text/plain": [
       "False"
      ]
     },
     "execution_count": 16,
     "metadata": {},
     "output_type": "execute_result"
    }
   ],
   "source": [
    "a is b"
   ]
  },
  {
   "cell_type": "code",
   "execution_count": 17,
   "id": "aca35f17-20f3-4810-8e24-c35f07a4413b",
   "metadata": {},
   "outputs": [
    {
     "data": {
      "text/plain": [
       "False"
      ]
     },
     "execution_count": 17,
     "metadata": {},
     "output_type": "execute_result"
    }
   ],
   "source": [
    "b is a"
   ]
  },
  {
   "cell_type": "code",
   "execution_count": 18,
   "id": "a6f9fe80-ab01-41fc-8a40-36de0322ee57",
   "metadata": {},
   "outputs": [
    {
     "data": {
      "text/plain": [
       "True"
      ]
     },
     "execution_count": 18,
     "metadata": {},
     "output_type": "execute_result"
    }
   ],
   "source": [
    "a is not b"
   ]
  },
  {
   "cell_type": "code",
   "execution_count": 19,
   "id": "53402d98-507f-438b-8ce7-f202b8f654b1",
   "metadata": {},
   "outputs": [
    {
     "data": {
      "text/plain": [
       "True"
      ]
     },
     "execution_count": 19,
     "metadata": {},
     "output_type": "execute_result"
    }
   ],
   "source": [
    "b is not a"
   ]
  },
  {
   "cell_type": "code",
   "execution_count": 23,
   "id": "b9a43cff-aec8-4ed5-85b4-cb35fb8b9653",
   "metadata": {},
   "outputs": [],
   "source": [
    "str1=\"PWSkills\"\n",
    "str2=\"PWskills\""
   ]
  },
  {
   "cell_type": "code",
   "execution_count": 24,
   "id": "da3f792f-f746-423d-b606-7936c68d59d1",
   "metadata": {},
   "outputs": [
    {
     "data": {
      "text/plain": [
       "False"
      ]
     },
     "execution_count": 24,
     "metadata": {},
     "output_type": "execute_result"
    }
   ],
   "source": [
    "str1 is str2"
   ]
  },
  {
   "cell_type": "markdown",
   "id": "e1a29083-5753-4962-abca-eb851092e3ed",
   "metadata": {},
   "source": [
    "6.Perform bitwise operations on any two integers."
   ]
  },
  {
   "cell_type": "code",
   "execution_count": 1,
   "id": "7d38c147-45cc-4f04-b6e8-468c31412ae5",
   "metadata": {},
   "outputs": [],
   "source": [
    "no1=3\n",
    "no2=5"
   ]
  },
  {
   "cell_type": "code",
   "execution_count": 2,
   "id": "96bdd83f-08f4-4b35-9ff7-299ea8d925c0",
   "metadata": {},
   "outputs": [
    {
     "data": {
      "text/plain": [
       "'0b11'"
      ]
     },
     "execution_count": 2,
     "metadata": {},
     "output_type": "execute_result"
    }
   ],
   "source": [
    "bin(no1)"
   ]
  },
  {
   "cell_type": "code",
   "execution_count": 3,
   "id": "db03fa1c-1d73-46c4-b5e7-842703752dba",
   "metadata": {},
   "outputs": [
    {
     "data": {
      "text/plain": [
       "'0b101'"
      ]
     },
     "execution_count": 3,
     "metadata": {},
     "output_type": "execute_result"
    }
   ],
   "source": [
    "bin(no2)"
   ]
  },
  {
   "cell_type": "code",
   "execution_count": 4,
   "id": "23837454-907e-4a1a-9138-ae50f03e828a",
   "metadata": {},
   "outputs": [
    {
     "data": {
      "text/plain": [
       "1"
      ]
     },
     "execution_count": 4,
     "metadata": {},
     "output_type": "execute_result"
    }
   ],
   "source": [
    "no1 & no2"
   ]
  },
  {
   "cell_type": "code",
   "execution_count": 5,
   "id": "0462ae90-12ee-4847-b6ec-27883d8c5687",
   "metadata": {},
   "outputs": [
    {
     "data": {
      "text/plain": [
       "7"
      ]
     },
     "execution_count": 5,
     "metadata": {},
     "output_type": "execute_result"
    }
   ],
   "source": [
    "no1 | no2"
   ]
  },
  {
   "cell_type": "code",
   "execution_count": 6,
   "id": "eea60812-d942-460a-843d-9e5224c6a206",
   "metadata": {},
   "outputs": [
    {
     "data": {
      "text/plain": [
       "6"
      ]
     },
     "execution_count": 6,
     "metadata": {},
     "output_type": "execute_result"
    }
   ],
   "source": [
    "no1 ^ no2"
   ]
  },
  {
   "cell_type": "code",
   "execution_count": 7,
   "id": "95b4287e-efa4-4b5a-a72d-50e160e9b5e2",
   "metadata": {},
   "outputs": [
    {
     "data": {
      "text/plain": [
       "-6"
      ]
     },
     "execution_count": 7,
     "metadata": {},
     "output_type": "execute_result"
    }
   ],
   "source": [
    "~no2"
   ]
  },
  {
   "cell_type": "code",
   "execution_count": 8,
   "id": "6b2cac82-beef-4d0e-af73-3ca2afbbd178",
   "metadata": {},
   "outputs": [
    {
     "data": {
      "text/plain": [
       "12"
      ]
     },
     "execution_count": 8,
     "metadata": {},
     "output_type": "execute_result"
    }
   ],
   "source": [
    "no1<<2"
   ]
  },
  {
   "cell_type": "code",
   "execution_count": 9,
   "id": "2344db2f-94e6-423a-8f26-fbd9ef862d20",
   "metadata": {},
   "outputs": [
    {
     "data": {
      "text/plain": [
       "1"
      ]
     },
     "execution_count": 9,
     "metadata": {},
     "output_type": "execute_result"
    }
   ],
   "source": [
    "no2>>2"
   ]
  },
  {
   "cell_type": "markdown",
   "id": "7c7494a6-372b-4742-af51-04f05efb1835",
   "metadata": {},
   "source": [
    "7. Use unary operators to change the sign of a number."
   ]
  },
  {
   "cell_type": "code",
   "execution_count": 10,
   "id": "f07a1a35-8474-4eb8-bc7d-9c57f087aa4f",
   "metadata": {},
   "outputs": [],
   "source": [
    "numb1=5\n",
    "\n",
    "changeno=-numb1"
   ]
  },
  {
   "cell_type": "code",
   "execution_count": 11,
   "id": "f189aec2-c978-41f3-aca2-4c7d9977ebda",
   "metadata": {},
   "outputs": [
    {
     "data": {
      "text/plain": [
       "-5"
      ]
     },
     "execution_count": 11,
     "metadata": {},
     "output_type": "execute_result"
    }
   ],
   "source": [
    "changeno"
   ]
  },
  {
   "cell_type": "code",
   "execution_count": 16,
   "id": "cbb5f4fc-d6f5-4773-974c-3cce8fcd0e7c",
   "metadata": {},
   "outputs": [],
   "source": [
    "changeno2=+numb1"
   ]
  },
  {
   "cell_type": "code",
   "execution_count": 17,
   "id": "f0fcec7c-a3ac-4821-bc63-28699f924878",
   "metadata": {},
   "outputs": [
    {
     "data": {
      "text/plain": [
       "5"
      ]
     },
     "execution_count": 17,
     "metadata": {},
     "output_type": "execute_result"
    }
   ],
   "source": [
    "changeno2"
   ]
  },
  {
   "cell_type": "markdown",
   "id": "cb1179f4-589c-4a05-a56e-da46abadb7f6",
   "metadata": {},
   "source": [
    "8. Use the ternary operator to assign values based on conditions."
   ]
  },
  {
   "cell_type": "code",
   "execution_count": 31,
   "id": "647168f9-ce97-42f7-b6d1-4fd3f6ce76b4",
   "metadata": {},
   "outputs": [],
   "source": [
    "x1 = 10\n",
    "x2 = 20\n",
    "result = x1 if (x1>x2) else x2\n"
   ]
  },
  {
   "cell_type": "code",
   "execution_count": 32,
   "id": "5b1a1f24-0a8b-43d9-b1a7-d42ccc30ed9e",
   "metadata": {},
   "outputs": [
    {
     "data": {
      "text/plain": [
       "20"
      ]
     },
     "execution_count": 32,
     "metadata": {},
     "output_type": "execute_result"
    }
   ],
   "source": [
    "result"
   ]
  }
 ],
 "metadata": {
  "kernelspec": {
   "display_name": "Python 3 (ipykernel)",
   "language": "python",
   "name": "python3"
  },
  "language_info": {
   "codemirror_mode": {
    "name": "ipython",
    "version": 3
   },
   "file_extension": ".py",
   "mimetype": "text/x-python",
   "name": "python",
   "nbconvert_exporter": "python",
   "pygments_lexer": "ipython3",
   "version": "3.10.8"
  }
 },
 "nbformat": 4,
 "nbformat_minor": 5
}
