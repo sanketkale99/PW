{
 "cells": [
  {
   "cell_type": "markdown",
   "id": "d245e731-ac61-4a71-9a11-4d98e1fef74d",
   "metadata": {},
   "source": [
    "1. What is the purpose of the len() function in Python, and how can it be used with strings?"
   ]
  },
  {
   "cell_type": "markdown",
   "id": "be31ff2c-97f5-45ac-89bd-f35b403a8b88",
   "metadata": {},
   "source": [
    "len() function is used to return the length of an object.\n",
    "It returns the number of character in the string."
   ]
  },
  {
   "cell_type": "code",
   "execution_count": 2,
   "id": "0a4fcd99-b6aa-4fb8-b373-a6cddf2a7b9e",
   "metadata": {},
   "outputs": [
    {
     "name": "stdout",
     "output_type": "stream",
     "text": [
      "13\n"
     ]
    }
   ],
   "source": [
    "my_string = \"Hello, World!\"\n",
    "print(len(my_string)) \n",
    "\n",
    "#In this code len() function return the length of my_string which is 13."
   ]
  },
  {
   "cell_type": "markdown",
   "id": "87146fc4-0fbe-4d3d-97ec-08ad14902ac2",
   "metadata": {},
   "source": [
    "2. How can you concatenate two or more strings in Python, and can you provide an example of string \n",
    " concatenation?"
   ]
  },
  {
   "cell_type": "markdown",
   "id": "903cabe3-f203-4e2b-94c0-27a61e006160",
   "metadata": {},
   "source": [
    "Strings can be concatenated using '+' operator. This operators combines two or more strings into a single string."
   ]
  },
  {
   "cell_type": "code",
   "execution_count": 4,
   "id": "f2e17b10-0a64-4e9a-8c45-250a7f0e0a99",
   "metadata": {},
   "outputs": [
    {
     "name": "stdout",
     "output_type": "stream",
     "text": [
      "Hello World!\n"
     ]
    }
   ],
   "source": [
    "str1=\"Hello\"\n",
    "str2=\"World!\"\n",
    "c_str=str1+\" \"+str2\n",
    "print(c_str)"
   ]
  },
  {
   "cell_type": "code",
   "execution_count": 5,
   "id": "f37ed2ea-44d3-4b3e-a5e9-aeaba8ba5234",
   "metadata": {},
   "outputs": [
    {
     "name": "stdout",
     "output_type": "stream",
     "text": [
      "SanketKale\n"
     ]
    }
   ],
   "source": [
    "a=\"Sanket\"\n",
    "b=\"Kale\"\n",
    "c=a+b\n",
    "print(c)"
   ]
  },
  {
   "cell_type": "markdown",
   "id": "c930a3fc-84ff-4509-bb9d-2a97c5c5639c",
   "metadata": {},
   "source": [
    "3. What is string slicing in Python, and how can you extract a portion of a string using this method?"
   ]
  },
  {
   "cell_type": "markdown",
   "id": "f2f43d9a-2b76-4a53-a0ea-1ca4af043d30",
   "metadata": {},
   "source": [
    "String slicing is used to extract the posrtion of string by specifying a range of indices.\n",
    "It is used to retrieve substring based on their position within original string."
   ]
  },
  {
   "cell_type": "code",
   "execution_count": 9,
   "id": "9fd2f687-3e1e-440c-a080-5beaa39a6be6",
   "metadata": {},
   "outputs": [],
   "source": [
    "str=\"PW is best platform to learn new technology\"\n",
    "sub_str=str[0:10]"
   ]
  },
  {
   "cell_type": "code",
   "execution_count": 10,
   "id": "e14030bd-a793-4d71-b88a-df06b8f70e06",
   "metadata": {},
   "outputs": [
    {
     "name": "stdout",
     "output_type": "stream",
     "text": [
      "PW is best\n"
     ]
    }
   ],
   "source": [
    "print(sub_str)"
   ]
  },
  {
   "cell_type": "code",
   "execution_count": 21,
   "id": "ccdd262d-3c8f-4c9e-807f-7dc5a27ce128",
   "metadata": {},
   "outputs": [
    {
     "name": "stdout",
     "output_type": "stream",
     "text": [
      "technology\n"
     ]
    }
   ],
   "source": [
    "print(str[-10:])"
   ]
  },
  {
   "cell_type": "code",
   "execution_count": 37,
   "id": "2d5bc7aa-dd37-4234-98c9-ad0119908c13",
   "metadata": {},
   "outputs": [
    {
     "name": "stdout",
     "output_type": "stream",
     "text": [
      "ygolonhcet wen nrael ot mroftalp tseb si W\n"
     ]
    }
   ],
   "source": [
    "print(str[-1:0:-1])"
   ]
  },
  {
   "cell_type": "markdown",
   "id": "08ef8aad-5c2f-4039-8242-9d7a9aab4ccc",
   "metadata": {},
   "source": [
    "4. How can you change the case of a string in Python, and can you provide examples of both making a string \n",
    "all uppercase and all lowercase?"
   ]
  },
  {
   "cell_type": "markdown",
   "id": "3ae8c903-97e0-4785-8667-9773e8bc89db",
   "metadata": {},
   "source": [
    "We can change the case of a string in Pytonh using upper() and lower() methods.\n",
    "upper() method convert all the caharacters into uppercase while lower() method converts all the characters into\n",
    "lowercase."
   ]
  },
  {
   "cell_type": "code",
   "execution_count": 40,
   "id": "ff798efe-2273-46c8-82d4-851fd92a6d61",
   "metadata": {},
   "outputs": [
    {
     "name": "stdout",
     "output_type": "stream",
     "text": [
      "PWSKILLS\n"
     ]
    }
   ],
   "source": [
    "string1=\"PwSkills\"\n",
    "print(string1.upper()) #this method returns all characters of string in upper case"
   ]
  },
  {
   "cell_type": "code",
   "execution_count": 41,
   "id": "9080a407-2dea-4da1-85a9-92e8d6242eb6",
   "metadata": {},
   "outputs": [
    {
     "name": "stdout",
     "output_type": "stream",
     "text": [
      "pwskills\n"
     ]
    }
   ],
   "source": [
    "print(string1.lower())  #this method returns all characters of string in lower case"
   ]
  },
  {
   "cell_type": "markdown",
   "id": "6c7a5973-2274-46f1-b2d3-3e81461f45db",
   "metadata": {},
   "source": [
    "5. What does the split() method do in Python, and how can you split a string using a specific delimiter?"
   ]
  },
  {
   "cell_type": "markdown",
   "id": "ac2211f0-f0d2-4264-a6a9-a7af32886117",
   "metadata": {},
   "source": [
    "split() method in python is a String method that split a string into a list of substrings based on deliminator.\n",
    "By default, deliminator is a white space, but we can specify any character or substring as the deliminator."
   ]
  },
  {
   "cell_type": "code",
   "execution_count": 1,
   "id": "fc697128-9299-442b-a7cc-d87bf0d84c8c",
   "metadata": {},
   "outputs": [
    {
     "name": "stdout",
     "output_type": "stream",
     "text": [
      "['My', 'name', 'is', 'Sanket']\n"
     ]
    }
   ],
   "source": [
    "my_str=\"My name is Sanket\"\n",
    "print(my_str.split())  #by default it specify whitespace as a deliminator"
   ]
  },
  {
   "cell_type": "code",
   "execution_count": 2,
   "id": "84993c3d-4f9a-4be6-81c4-b11d86e52b54",
   "metadata": {},
   "outputs": [
    {
     "name": "stdout",
     "output_type": "stream",
     "text": [
      "['Mango', 'Banana', 'Orange', 'Papaya']\n"
     ]
    }
   ],
   "source": [
    "str=\"Mango,Banana,Orange,Papaya\"\n",
    "print(str.split(\",\"))"
   ]
  },
  {
   "cell_type": "code",
   "execution_count": null,
   "id": "a0b66e97-f6ea-44e0-9588-e7b43087f486",
   "metadata": {},
   "outputs": [],
   "source": []
  }
 ],
 "metadata": {
  "kernelspec": {
   "display_name": "Python 3 (ipykernel)",
   "language": "python",
   "name": "python3"
  },
  "language_info": {
   "codemirror_mode": {
    "name": "ipython",
    "version": 3
   },
   "file_extension": ".py",
   "mimetype": "text/x-python",
   "name": "python",
   "nbconvert_exporter": "python",
   "pygments_lexer": "ipython3",
   "version": "3.10.8"
  }
 },
 "nbformat": 4,
 "nbformat_minor": 5
}
