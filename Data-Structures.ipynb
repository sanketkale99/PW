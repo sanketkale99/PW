{
 "cells": [
  {
   "cell_type": "markdown",
   "id": "a4e7a0af-24a3-4342-98d2-63d0949fcf25",
   "metadata": {},
   "source": [
    "1. Why might you choose a deque from the collections module to implement a queue instead of using a \n",
    " regular Python list?"
   ]
  },
  {
   "cell_type": "markdown",
   "id": "4fff436f-78f7-4840-b674-30acf8263f47",
   "metadata": {},
   "source": [
    "Deque stands for double ended queue. \n",
    "deque from collection module is more efficient choice for implementing a queue compared to python list because \n",
    "it supports fast operations for adding and removing elements from both ends of queue.\n",
    "Deque can be used to implement both Stack and Queue."
   ]
  },
  {
   "cell_type": "code",
   "execution_count": 14,
   "id": "eefd5452-1893-471d-9fd5-84b5737953e4",
   "metadata": {},
   "outputs": [],
   "source": [
    "from collections import deque\n",
    "\n",
    "queue=deque()\n",
    "queue.append(1)\n",
    "queue.append(2)\n",
    "queue.append(3)"
   ]
  },
  {
   "cell_type": "code",
   "execution_count": 15,
   "id": "cff580bd-44e3-4dad-85ea-af75d50517a5",
   "metadata": {},
   "outputs": [],
   "source": [
    "item=queue.popleft() #this function remove the leftmost element which append at first in queue."
   ]
  },
  {
   "cell_type": "code",
   "execution_count": 16,
   "id": "cc849d55-0cd9-4701-8dc9-dca0a0ab455a",
   "metadata": {},
   "outputs": [
    {
     "name": "stdout",
     "output_type": "stream",
     "text": [
      "1\n"
     ]
    }
   ],
   "source": [
    "print(item)"
   ]
  },
  {
   "cell_type": "code",
   "execution_count": 17,
   "id": "b440b14b-e973-4fc3-9162-cfc9786dffae",
   "metadata": {},
   "outputs": [
    {
     "name": "stdout",
     "output_type": "stream",
     "text": [
      "3\n"
     ]
    }
   ],
   "source": [
    "print(queue.pop()) #this function remove the last element which element append in queue at last "
   ]
  },
  {
   "cell_type": "markdown",
   "id": "9de71384-947c-4472-8906-9950b4de7437",
   "metadata": {},
   "source": [
    "2.Can you explain a real-world scenario where using a stack would be a more practical choice than a list for \n",
    " data storage and retrieval?"
   ]
  },
  {
   "cell_type": "markdown",
   "id": "8b79c30c-18af-4c64-bf1f-290ed5206c06",
   "metadata": {},
   "source": [
    "A real-world scenario where using a stack using a stack would be a more practical than a list is when implementing\n",
    "a \"Undo\" functionality in a text editor or any application where we need to keep track of a sequence of operations\n",
    "that can be undone.\n",
    "Stack provide LIFO functions."
   ]
  },
  {
   "cell_type": "markdown",
   "id": "87c0a8df-fc58-4308-87ca-8b98ff9ed3d5",
   "metadata": {},
   "source": [
    "3. What is the primary advantage of using sets in Python, and in what type of problem-solving scenarios are \n",
    " they most useful?"
   ]
  },
  {
   "cell_type": "markdown",
   "id": "725c17ca-1553-4811-a017-7ae9b0f03e2c",
   "metadata": {},
   "source": [
    "The primary advantage of using sets in Python is to store unique elements.\n",
    "Set eliminates duplicate values, making them ideal for tasks such as finding unique items in a collection, \n",
    "removing duplicates from a list, or performing a set of operations like intersection, union, and difference efficiently."
   ]
  },
  {
   "cell_type": "markdown",
   "id": "a3797750-ed84-4741-8acf-2523bb0315c5",
   "metadata": {},
   "source": [
    "4. When might you choose to use an array instead of a list for storing numerical data in Python? What \n",
    " benefits do arrays offer in this context?"
   ]
  },
  {
   "cell_type": "markdown",
   "id": "fab1a633-6a3e-45be-b9f3-dcf109ea90c1",
   "metadata": {},
   "source": [
    "Arrays in Python are more memory-efficient than lists for storing numerical data because they store the elements \n",
    "of same data type in a contiguous block of memory.\n",
    "Arrays are particularly useful when working with large datasets or performance-critical applications where memory \n",
    "usage and important factors."
   ]
  },
  {
   "cell_type": "markdown",
   "id": "dd0323fb-5d41-4fcd-bfec-06316153b19b",
   "metadata": {},
   "source": [
    "5. In Python, what's the primary difference between dictionaries and lists, and how does this difference \n",
    " impact their use cases in programming?"
   ]
  },
  {
   "cell_type": "markdown",
   "id": "50f99792-71f1-4eb9-bbc2-5e4d58ea34d9",
   "metadata": {},
   "source": [
    "A list is an ordered collection of items, whereas a dictionary is an unordered data collection in a key: value pair.\n",
    "Elements from the list can be accessed using the index, while the elements of the dictionary can be accessed using keys.\n"
   ]
  }
 ],
 "metadata": {
  "kernelspec": {
   "display_name": "Python 3 (ipykernel)",
   "language": "python",
   "name": "python3"
  },
  "language_info": {
   "codemirror_mode": {
    "name": "ipython",
    "version": 3
   },
   "file_extension": ".py",
   "mimetype": "text/x-python",
   "name": "python",
   "nbconvert_exporter": "python",
   "pygments_lexer": "ipython3",
   "version": "3.10.8"
  }
 },
 "nbformat": 4,
 "nbformat_minor": 5
}
