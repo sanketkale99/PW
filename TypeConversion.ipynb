{
 "cells": [
  {
   "cell_type": "markdown",
   "id": "568be864-1323-4763-b0e4-3eb20e4938dd",
   "metadata": {},
   "source": [
    "1.Convert an integer to a floatig-point number."
   ]
  },
  {
   "cell_type": "code",
   "execution_count": 2,
   "id": "93ab4a8e-1615-41ad-b492-4175e78ba33d",
   "metadata": {},
   "outputs": [],
   "source": [
    "a=76"
   ]
  },
  {
   "cell_type": "code",
   "execution_count": 3,
   "id": "1cb3cfd4-82f6-452e-85f4-848b2eb0e6bc",
   "metadata": {},
   "outputs": [
    {
     "data": {
      "text/plain": [
       "int"
      ]
     },
     "execution_count": 3,
     "metadata": {},
     "output_type": "execute_result"
    }
   ],
   "source": [
    "type(a)"
   ]
  },
  {
   "cell_type": "code",
   "execution_count": 5,
   "id": "9ffb5ab7-2840-4b3d-ae71-d9e81181c30a",
   "metadata": {},
   "outputs": [],
   "source": [
    "b=float(a)"
   ]
  },
  {
   "cell_type": "code",
   "execution_count": 6,
   "id": "a97d36a4-45e3-4954-bfb2-4c370d36d64e",
   "metadata": {},
   "outputs": [
    {
     "data": {
      "text/plain": [
       "float"
      ]
     },
     "execution_count": 6,
     "metadata": {},
     "output_type": "execute_result"
    }
   ],
   "source": [
    "type(b)"
   ]
  },
  {
   "cell_type": "markdown",
   "id": "97e650cf-176c-4af8-8344-b002ee38f8c9",
   "metadata": {},
   "source": [
    "2.Convert a float to a integer."
   ]
  },
  {
   "cell_type": "code",
   "execution_count": 71,
   "id": "c4835257-cc9e-4946-bc9d-0fe8bbfbb5ef",
   "metadata": {},
   "outputs": [],
   "source": [
    "x = 5.5"
   ]
  },
  {
   "cell_type": "code",
   "execution_count": 72,
   "id": "b1fca152-04b8-4a7e-9b71-4ec9ce5ae30b",
   "metadata": {},
   "outputs": [
    {
     "data": {
      "text/plain": [
       "float"
      ]
     },
     "execution_count": 72,
     "metadata": {},
     "output_type": "execute_result"
    }
   ],
   "source": [
    "type(x)"
   ]
  },
  {
   "cell_type": "code",
   "execution_count": 73,
   "id": "6ad9f80d-bbdb-4c41-ba05-b8c5db62edde",
   "metadata": {},
   "outputs": [],
   "source": [
    "y=int(x)"
   ]
  },
  {
   "cell_type": "code",
   "execution_count": 74,
   "id": "f4c06cc9-6166-4d2e-be04-1fdd33e5c0b8",
   "metadata": {},
   "outputs": [
    {
     "data": {
      "text/plain": [
       "5"
      ]
     },
     "execution_count": 74,
     "metadata": {},
     "output_type": "execute_result"
    }
   ],
   "source": [
    "y"
   ]
  },
  {
   "cell_type": "code",
   "execution_count": 98,
   "id": "882d1a9f-95d7-40c3-8dc6-0cb404c75e56",
   "metadata": {},
   "outputs": [
    {
     "data": {
      "text/plain": [
       "int"
      ]
     },
     "execution_count": 98,
     "metadata": {},
     "output_type": "execute_result"
    }
   ],
   "source": [
    "type(y)"
   ]
  },
  {
   "cell_type": "markdown",
   "id": "a990f657-83dd-4745-973a-01d14018f358",
   "metadata": {},
   "source": [
    "3.Convert an integer to a String."
   ]
  },
  {
   "cell_type": "code",
   "execution_count": 99,
   "id": "204f781f-a643-4021-861d-4604602b7a0b",
   "metadata": {},
   "outputs": [],
   "source": [
    "l=34"
   ]
  },
  {
   "cell_type": "code",
   "execution_count": 100,
   "id": "2ce9dd12-8d84-402d-9e93-4be2252be653",
   "metadata": {},
   "outputs": [
    {
     "data": {
      "text/plain": [
       "int"
      ]
     },
     "execution_count": 100,
     "metadata": {},
     "output_type": "execute_result"
    }
   ],
   "source": [
    "type(l)"
   ]
  },
  {
   "cell_type": "code",
   "execution_count": 101,
   "id": "92630a3a-057a-466e-a60c-4ede4640f4c8",
   "metadata": {},
   "outputs": [],
   "source": [
    "m=str(l)"
   ]
  },
  {
   "cell_type": "code",
   "execution_count": 102,
   "id": "b4426830-8bdb-4d75-bbd8-0e987dea9c36",
   "metadata": {},
   "outputs": [
    {
     "data": {
      "text/plain": [
       "str"
      ]
     },
     "execution_count": 102,
     "metadata": {},
     "output_type": "execute_result"
    }
   ],
   "source": [
    "type(m)"
   ]
  },
  {
   "cell_type": "code",
   "execution_count": 103,
   "id": "97ebca4f-b6cd-446d-8941-9cf96187fd28",
   "metadata": {},
   "outputs": [
    {
     "data": {
      "text/plain": [
       "'34'"
      ]
     },
     "execution_count": 103,
     "metadata": {},
     "output_type": "execute_result"
    }
   ],
   "source": [
    "m"
   ]
  },
  {
   "cell_type": "markdown",
   "id": "60910e86-b17e-4df9-b99f-6ebfb2cf7b2c",
   "metadata": {},
   "source": [
    "4.Convert a list to a tuple."
   ]
  },
  {
   "cell_type": "code",
   "execution_count": 104,
   "id": "0ff654b6-8b25-4511-abbe-a6508b81e73a",
   "metadata": {},
   "outputs": [],
   "source": [
    "new_list=[1,2,3,\"Sanket\",4+6j,33.67]"
   ]
  },
  {
   "cell_type": "code",
   "execution_count": 121,
   "id": "8aa0872c-7c93-41bc-819e-1581442804e7",
   "metadata": {},
   "outputs": [
    {
     "data": {
      "text/plain": [
       "list"
      ]
     },
     "execution_count": 121,
     "metadata": {},
     "output_type": "execute_result"
    }
   ],
   "source": [
    "type(new_list)"
   ]
  },
  {
   "cell_type": "code",
   "execution_count": 122,
   "id": "a7eabeb4-d003-4dec-abb8-b7bd0efb866e",
   "metadata": {},
   "outputs": [],
   "source": [
    "new_list.append(\"myname\")"
   ]
  },
  {
   "cell_type": "code",
   "execution_count": 123,
   "id": "feeefed4-dd6e-4a3d-a74a-282df0884d7e",
   "metadata": {},
   "outputs": [
    {
     "data": {
      "text/plain": [
       "[1, 2, 3, 'Sanket', (4+6j), 33.67, 'x', 'x', 'myname', 'myname']"
      ]
     },
     "execution_count": 123,
     "metadata": {},
     "output_type": "execute_result"
    }
   ],
   "source": [
    "new_list"
   ]
  },
  {
   "cell_type": "code",
   "execution_count": 124,
   "id": "5f703062-2612-4f9c-8481-498da05f1e27",
   "metadata": {},
   "outputs": [],
   "source": [
    "new_touple=tuple(new_list)"
   ]
  },
  {
   "cell_type": "code",
   "execution_count": 125,
   "id": "958dc912-34a1-4caf-b680-73b74ec7d0c7",
   "metadata": {},
   "outputs": [
    {
     "data": {
      "text/plain": [
       "(1, 2, 3, 'Sanket', (4+6j), 33.67, 'x', 'x', 'myname', 'myname')"
      ]
     },
     "execution_count": 125,
     "metadata": {},
     "output_type": "execute_result"
    }
   ],
   "source": [
    "new_touple"
   ]
  },
  {
   "cell_type": "code",
   "execution_count": 126,
   "id": "b8565245-33df-4a24-bc5a-bb1cbe3dac9a",
   "metadata": {},
   "outputs": [
    {
     "data": {
      "text/plain": [
       "tuple"
      ]
     },
     "execution_count": 126,
     "metadata": {},
     "output_type": "execute_result"
    }
   ],
   "source": [
    "type(new_touple)"
   ]
  },
  {
   "cell_type": "markdown",
   "id": "f891a12f-c459-4bd6-bb1c-88d4c1f03b67",
   "metadata": {},
   "source": [
    "5.Covert a tuple to a list."
   ]
  },
  {
   "cell_type": "code",
   "execution_count": 127,
   "id": "cb9902d2-d8ef-45fd-aa90-0eaef57cae1c",
   "metadata": {},
   "outputs": [],
   "source": [
    "my_touple=(7,55,90,\"Sanket\",\"PWSkills\")"
   ]
  },
  {
   "cell_type": "code",
   "execution_count": 128,
   "id": "30d7b0c3-d620-497a-a19f-c90e0e03e0f8",
   "metadata": {},
   "outputs": [
    {
     "data": {
      "text/plain": [
       "tuple"
      ]
     },
     "execution_count": 128,
     "metadata": {},
     "output_type": "execute_result"
    }
   ],
   "source": [
    "type(my_touple)"
   ]
  },
  {
   "cell_type": "code",
   "execution_count": 129,
   "id": "a9a55eaa-fbb5-48a0-a3c2-804dae7e20a9",
   "metadata": {},
   "outputs": [],
   "source": [
    "my_list=list(my_touple)"
   ]
  },
  {
   "cell_type": "code",
   "execution_count": 131,
   "id": "431264a6-015a-4f24-b3bc-22518c000fb0",
   "metadata": {},
   "outputs": [
    {
     "data": {
      "text/plain": [
       "list"
      ]
     },
     "execution_count": 131,
     "metadata": {},
     "output_type": "execute_result"
    }
   ],
   "source": [
    "type(my_list)"
   ]
  },
  {
   "cell_type": "markdown",
   "id": "42fbf841-d269-46c6-be83-17e232d48293",
   "metadata": {},
   "source": [
    "6.Convert a decimal number to binary."
   ]
  },
  {
   "cell_type": "code",
   "execution_count": 7,
   "id": "9ff6e30d-4099-4908-b807-534f7ac5de19",
   "metadata": {},
   "outputs": [],
   "source": [
    "num=55.45"
   ]
  },
  {
   "cell_type": "code",
   "execution_count": 9,
   "id": "90e33a20-f84c-4651-8f08-901745de4621",
   "metadata": {},
   "outputs": [
    {
     "data": {
      "text/plain": [
       "float"
      ]
     },
     "execution_count": 9,
     "metadata": {},
     "output_type": "execute_result"
    }
   ],
   "source": [
    "type(num)"
   ]
  },
  {
   "cell_type": "code",
   "execution_count": 11,
   "id": "eeffa1ab-e3ab-4136-af9f-c78cb835c9ae",
   "metadata": {},
   "outputs": [
    {
     "ename": "TypeError",
     "evalue": "'float' object cannot be interpreted as an integer",
     "output_type": "error",
     "traceback": [
      "\u001b[0;31m---------------------------------------------------------------------------\u001b[0m",
      "\u001b[0;31mTypeError\u001b[0m                                 Traceback (most recent call last)",
      "Cell \u001b[0;32mIn[11], line 1\u001b[0m\n\u001b[0;32m----> 1\u001b[0m \u001b[38;5;28;43mbin\u001b[39;49m\u001b[43m(\u001b[49m\u001b[38;5;241;43m55.45\u001b[39;49m\u001b[43m)\u001b[49m  \u001b[38;5;66;03m#it is not possible to convert the float value into binary \u001b[39;00m\n",
      "\u001b[0;31mTypeError\u001b[0m: 'float' object cannot be interpreted as an integer"
     ]
    }
   ],
   "source": [
    "bin(55.45)  #it is not possible to convert the float value into binary, to convert it into binary we have to convert it into integer value and then intio binary"
   ]
  },
  {
   "cell_type": "code",
   "execution_count": 14,
   "id": "96c2868a-56fe-4682-9db4-1b305a4a151a",
   "metadata": {},
   "outputs": [],
   "source": [
    "num2=int(num)"
   ]
  },
  {
   "cell_type": "code",
   "execution_count": 16,
   "id": "054fc84c-aac9-48af-be99-084f37b882b3",
   "metadata": {},
   "outputs": [
    {
     "data": {
      "text/plain": [
       "'0b110111'"
      ]
     },
     "execution_count": 16,
     "metadata": {},
     "output_type": "execute_result"
    }
   ],
   "source": [
    "bin(num2)"
   ]
  },
  {
   "cell_type": "markdown",
   "id": "94b76775-7aa7-42fc-acda-c01afe6c52fd",
   "metadata": {},
   "source": [
    "6.Convert a non-zero number to a boolean."
   ]
  },
  {
   "cell_type": "markdown",
   "id": "780189b7-7dc4-4bf1-b1d5-e9dc323bafb1",
   "metadata": {},
   "source": [
    "#any non-zero number which are positive or negative will be true when converted to boolean value"
   ]
  },
  {
   "cell_type": "code",
   "execution_count": 17,
   "id": "f0790519-4cda-455e-bb39-1a4e3b2d84e9",
   "metadata": {},
   "outputs": [],
   "source": [
    "my_num=2"
   ]
  },
  {
   "cell_type": "code",
   "execution_count": 18,
   "id": "7831f9d7-d309-45dd-91a1-36038cb0f0cb",
   "metadata": {},
   "outputs": [
    {
     "data": {
      "text/plain": [
       "True"
      ]
     },
     "execution_count": 18,
     "metadata": {},
     "output_type": "execute_result"
    }
   ],
   "source": [
    "bool(2)"
   ]
  },
  {
   "cell_type": "code",
   "execution_count": 21,
   "id": "ebd2e789-901c-497b-9311-200d541a559a",
   "metadata": {},
   "outputs": [],
   "source": [
    "my_num2=-1"
   ]
  },
  {
   "cell_type": "code",
   "execution_count": 22,
   "id": "f3449d49-4a57-403a-a15b-d4188b7a202c",
   "metadata": {},
   "outputs": [
    {
     "data": {
      "text/plain": [
       "True"
      ]
     },
     "execution_count": 22,
     "metadata": {},
     "output_type": "execute_result"
    }
   ],
   "source": [
    "bool(my_num2)"
   ]
  }
 ],
 "metadata": {
  "kernelspec": {
   "display_name": "Python 3 (ipykernel)",
   "language": "python",
   "name": "python3"
  },
  "language_info": {
   "codemirror_mode": {
    "name": "ipython",
    "version": 3
   },
   "file_extension": ".py",
   "mimetype": "text/x-python",
   "name": "python",
   "nbconvert_exporter": "python",
   "pygments_lexer": "ipython3",
   "version": "3.10.8"
  }
 },
 "nbformat": 4,
 "nbformat_minor": 5
}
