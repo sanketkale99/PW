{
 "cells": [
  {
   "cell_type": "markdown",
   "id": "8f30665c-bf4f-4d60-bfdf-295656cf7f58",
   "metadata": {},
   "source": [
    "1.Explain the significance of Python keywords and provide examples of five keywords"
   ]
  },
  {
   "cell_type": "markdown",
   "id": "43539555-27ea-4892-a9ee-e50ba05b7017",
   "metadata": {},
   "source": [
    "Keywords in the Python are reserved and we cannot use that keywords for defining variables and functions in Python\n",
    "because they are already used to define the syntax and structure of the language itself."
   ]
  },
  {
   "cell_type": "markdown",
   "id": "9f229ed0-73a2-419d-8da4-eb115b381c32",
   "metadata": {},
   "source": [
    "1.1.\"if\"- it is used to implement conditional statements in python and it allows to execute a bl;ock of code based on conditions."
   ]
  },
  {
   "cell_type": "code",
   "execution_count": 2,
   "id": "ab012331-b839-490d-9f4c-ccb540e9e9ea",
   "metadata": {},
   "outputs": [
    {
     "name": "stdout",
     "output_type": "stream",
     "text": [
      "x is greater than 5\n"
     ]
    }
   ],
   "source": [
    "x=10\n",
    "if(x>5):\n",
    "    print(\"x is greater than 5\")"
   ]
  },
  {
   "cell_type": "markdown",
   "id": "e8585cf0-015b-4e97-98d0-3540b193933f",
   "metadata": {},
   "source": [
    "1.2.\"for\"- for is used to iterate a loop in the list, set, string and touples."
   ]
  },
  {
   "cell_type": "code",
   "execution_count": 5,
   "id": "664adb85-c3c6-4326-8ffb-7dba16711f13",
   "metadata": {},
   "outputs": [
    {
     "name": "stdout",
     "output_type": "stream",
     "text": [
      "0 1 2 3 4 5 6 7 8 9 "
     ]
    }
   ],
   "source": [
    "for i in range (10):\n",
    "    print(i, end=\" \")"
   ]
  },
  {
   "cell_type": "code",
   "execution_count": 6,
   "id": "238b16f5-250b-49dc-90a9-42470df466c8",
   "metadata": {},
   "outputs": [
    {
     "name": "stdout",
     "output_type": "stream",
     "text": [
      "mango\n",
      "apple\n",
      "banana\n"
     ]
    }
   ],
   "source": [
    "list1=[\"mango\",\"apple\",\"banana\"]\n",
    "for i in list1:\n",
    "    print(i)"
   ]
  },
  {
   "cell_type": "markdown",
   "id": "2286c3c9-e1ad-4184-a69c-849a95bafa33",
   "metadata": {},
   "source": [
    "1.3.\"while\" while is used to create and iterate when the conditions are known"
   ]
  },
  {
   "cell_type": "code",
   "execution_count": 4,
   "id": "6a357240-1284-47c0-86b8-b27157fdc3e7",
   "metadata": {},
   "outputs": [
    {
     "name": "stdout",
     "output_type": "stream",
     "text": [
      "1\n",
      "2\n",
      "3\n",
      "4\n",
      "5\n"
     ]
    }
   ],
   "source": [
    "i=1\n",
    "while i<=5:\n",
    "    print(i)\n",
    "    i+=1"
   ]
  },
  {
   "cell_type": "markdown",
   "id": "8c0725fa-498a-4a02-bd5f-5b1a96a1369f",
   "metadata": {},
   "source": [
    "1.4.\"and\" it is a logical operator used to combine multiple conditions and returns true if \n",
    "both cinditions are true"
   ]
  },
  {
   "cell_type": "code",
   "execution_count": 6,
   "id": "f5db0bf5-ec4e-468d-9e5f-927025d480cc",
   "metadata": {},
   "outputs": [
    {
     "name": "stdout",
     "output_type": "stream",
     "text": [
      "You are eligible for exam\n"
     ]
    }
   ],
   "source": [
    "a=20\n",
    "\n",
    "if a>18 and a<21:\n",
    "    print(\"You are eligible for exam\")\n",
    "    "
   ]
  },
  {
   "cell_type": "markdown",
   "id": "0d3510fa-1e27-46ed-afb6-a7380fdc780c",
   "metadata": {},
   "source": [
    "1.5.\"is\"- it is used to test wheter two variables refer to the same object or not \n"
   ]
  },
  {
   "cell_type": "code",
   "execution_count": 11,
   "id": "d96af350-3471-4787-9c53-af13b7c67210",
   "metadata": {},
   "outputs": [],
   "source": [
    "str1=\"PwSkills\"\n",
    "str2=\"Pwskills\""
   ]
  },
  {
   "cell_type": "code",
   "execution_count": 13,
   "id": "c26e027c-2925-4e13-82f9-a4903c9741e2",
   "metadata": {},
   "outputs": [
    {
     "data": {
      "text/plain": [
       "False"
      ]
     },
     "execution_count": 13,
     "metadata": {},
     "output_type": "execute_result"
    }
   ],
   "source": [
    "str1 is str2"
   ]
  },
  {
   "cell_type": "code",
   "execution_count": 12,
   "id": "3a473f53-334d-4483-870a-0649674dec2a",
   "metadata": {},
   "outputs": [
    {
     "data": {
      "text/plain": [
       "True"
      ]
     },
     "execution_count": 12,
     "metadata": {},
     "output_type": "execute_result"
    }
   ],
   "source": [
    "str1 is not str2"
   ]
  },
  {
   "cell_type": "markdown",
   "id": "a299b242-4560-48d9-902b-66684e78632a",
   "metadata": {},
   "source": [
    "2. Describe the rules for defining identifiers in Python and provide an example."
   ]
  },
  {
   "cell_type": "markdown",
   "id": "9ba46448-df77-42d6-a45b-2fd805e6c9c7",
   "metadata": {},
   "source": [
    "It must start with letter or underscore and not with numbers.\n",
    "eg-  _myVar\n",
    "     myVar\n",
    "We can also use numbers after first letter\n",
    "eg- _myVar2"
   ]
  },
  {
   "cell_type": "markdown",
   "id": "cf9af022-b4fd-477e-8b2d-79ac12069a6b",
   "metadata": {},
   "source": [
    "Identifiers can't be the same as Python keywords.\n",
    "eg- for, in, while, def, etc."
   ]
  },
  {
   "cell_type": "markdown",
   "id": "8c70b967-077a-47d2-b86c-485fa22432aa",
   "metadata": {},
   "source": [
    "Identifiers can't contain special characters like !, @, #, $, %, etc."
   ]
  },
  {
   "cell_type": "markdown",
   "id": "9957c674-3bdc-49cb-bc29-8ad4f73fd3aa",
   "metadata": {},
   "source": [
    "Identifiers are case-sensitive in python. \n",
    "So, myVar, myVar, Myvar, MyVar are 4 different identifiers."
   ]
  },
  {
   "cell_type": "markdown",
   "id": "d35461fb-8300-409b-b53b-8d1f5da99de7",
   "metadata": {},
   "source": [
    "3. What are comments in Python, and why are they useful Provide an example"
   ]
  },
  {
   "cell_type": "markdown",
   "id": "1d6c7332-e3c2-4ecf-925b-4b926500c3cd",
   "metadata": {},
   "source": [
    "Comments in python are useful to explain the code and it is useful to understand the code for other developers.\n",
    "Comments are ignored by interpreter during execution so we did not not required extra memeory to write comments in python.\n",
    "There are 2 types of comments in python: \n",
    "        1.Single Line Comment\n",
    "        2.Multi-Line Comment"
   ]
  },
  {
   "cell_type": "markdown",
   "id": "782a1704-af84-4103-ad9b-7bae8b4f7b85",
   "metadata": {},
   "source": [
    "#Single Line Comment\n",
    "Single line comment is start with '#' and it comment until the end of line."
   ]
  },
  {
   "cell_type": "code",
   "execution_count": 18,
   "id": "1dbe1c0d-416e-4162-9c7f-39e8ff0a3017",
   "metadata": {},
   "outputs": [
    {
     "name": "stdout",
     "output_type": "stream",
     "text": [
      "Hello, World!\n"
     ]
    }
   ],
   "source": [
    "# This is a single-line comment\n",
    "print(\"Hello, World!\")  # This is also a single-line comment\n"
   ]
  },
  {
   "cell_type": "markdown",
   "id": "403ca4ce-89e3-41db-8797-93222c9fbda0",
   "metadata": {},
   "source": [
    "Multi-Line Comment\n",
    "It Start with ''' and end with '''."
   ]
  },
  {
   "cell_type": "code",
   "execution_count": 19,
   "id": "d02694b4-4a46-4f8e-a1d8-efd440b0e904",
   "metadata": {},
   "outputs": [
    {
     "data": {
      "text/plain": [
       "'\\nThis is a multi-line comment or docstring.\\nIt spans multiple lines and can contain\\ndetailed explanations or documentation.\\n'"
      ]
     },
     "execution_count": 19,
     "metadata": {},
     "output_type": "execute_result"
    }
   ],
   "source": [
    "'''\n",
    "This is a multi-line comment or docstring.\n",
    "It spans multiple lines and can contain\n",
    "detailed explanations or documentation.\n",
    "'''"
   ]
  },
  {
   "cell_type": "markdown",
   "id": "1a6d8729-03b8-4781-8ef9-1eb237d0d65e",
   "metadata": {},
   "source": [
    "4. Why is proper indentation important in Python."
   ]
  },
  {
   "cell_type": "markdown",
   "id": "8620f256-f527-4ebf-aafb-06db5229ef05",
   "metadata": {},
   "source": [
    "Python uses indentation to indicate a block of code.\n",
    "It determines the structure and hierarchy of code blocks in Python.\n",
    "Indentation helps clarify the flow of control in the program.\n",
    "If identation are not given proper then we may get error while running code."
   ]
  },
  {
   "cell_type": "markdown",
   "id": "1b1732d2-fd4d-444c-9bcb-78786e845671",
   "metadata": {},
   "source": [
    "5. What happens if indentation is incorrect in Python"
   ]
  },
  {
   "cell_type": "markdown",
   "id": "35860f1a-7a96-4c93-b91e-6854cf28d188",
   "metadata": {},
   "source": [
    "If indentation is incorrect in Python it will give indentation error.\n",
    "If we do not give proper indentation then it is not easy to understand the flow of code for programmer.\n",
    "Python execution dependends on indentation and structure of code, if we have not given proper indentation then \n",
    "Python interpreter is unable to define the scope of block like loops, condtional statements."
   ]
  },
  {
   "cell_type": "markdown",
   "id": "8f2964a0-7fc0-486d-9ab4-f199181d8d1e",
   "metadata": {},
   "source": [
    "6. Differentiate between expression and statement in Python with examples."
   ]
  },
  {
   "cell_type": "markdown",
   "id": "eac7b1d7-b4c3-4b55-aad1-fbe5484e078e",
   "metadata": {},
   "source": [
    "Expression- it is a combination of variables, operators which gives any single value.\n",
    "eg- 5+3 which gives 8. here, 5 and 3 are variables and + is operators which gives result 8.\n",
    "\n",
    "Statement- In simple, statement means the instructions that are given to the interpreter in the form of multiple statements. "
   ]
  },
  {
   "cell_type": "code",
   "execution_count": null,
   "id": "38b08b5f-e03e-4fdd-8946-4c400f4e0474",
   "metadata": {},
   "outputs": [],
   "source": []
  }
 ],
 "metadata": {
  "kernelspec": {
   "display_name": "Python 3 (ipykernel)",
   "language": "python",
   "name": "python3"
  },
  "language_info": {
   "codemirror_mode": {
    "name": "ipython",
    "version": 3
   },
   "file_extension": ".py",
   "mimetype": "text/x-python",
   "name": "python",
   "nbconvert_exporter": "python",
   "pygments_lexer": "ipython3",
   "version": "3.10.8"
  }
 },
 "nbformat": 4,
 "nbformat_minor": 5
}
