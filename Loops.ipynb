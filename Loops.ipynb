{
 "cells": [
  {
   "cell_type": "markdown",
   "id": "a6a03a8f-2b53-4f8d-b91b-d045b0b31cae",
   "metadata": {},
   "source": [
    "1.Print number from 1 to 5 using a while loop."
   ]
  },
  {
   "cell_type": "code",
   "execution_count": 1,
   "id": "62a1b3da-0f8c-44a7-a7bf-7b958b780072",
   "metadata": {},
   "outputs": [
    {
     "name": "stdout",
     "output_type": "stream",
     "text": [
      "1\n",
      "2\n",
      "3\n",
      "4\n",
      "5\n"
     ]
    }
   ],
   "source": [
    "i=1\n",
    "while i<=5:\n",
    "    print(i)\n",
    "    i+=1"
   ]
  },
  {
   "cell_type": "markdown",
   "id": "d0f32fec-edfb-45cb-a7e1-ef01e5e2ed16",
   "metadata": {},
   "source": [
    "2.Calculate the sum of numbers from 1 to 10 using a while loop."
   ]
  },
  {
   "cell_type": "code",
   "execution_count": 3,
   "id": "eb5b54a2-0983-4161-a636-9b9f165e6a76",
   "metadata": {},
   "outputs": [
    {
     "name": "stdout",
     "output_type": "stream",
     "text": [
      "55\n"
     ]
    }
   ],
   "source": [
    "i=1\n",
    "sum=0\n",
    "while i<=10:\n",
    "    sum+=i;\n",
    "    i+=1;\n",
    "print(sum)"
   ]
  },
  {
   "cell_type": "markdown",
   "id": "26252382-9413-4c97-b4df-560287184ba4",
   "metadata": {},
   "source": [
    "3. Calculate the factorial of a number using a for loop."
   ]
  },
  {
   "cell_type": "code",
   "execution_count": 6,
   "id": "d4a043f0-a1e1-4f33-828b-b0c0e2fa0bd3",
   "metadata": {},
   "outputs": [
    {
     "name": "stdout",
     "output_type": "stream",
     "text": [
      "120\n"
     ]
    }
   ],
   "source": [
    "n=5\n",
    "res=1\n",
    "for i in range(1, n+1):\n",
    "    res=res*i\n",
    "print(res)\n",
    "    "
   ]
  },
  {
   "cell_type": "markdown",
   "id": "12e22682-7573-45cb-ab97-3be25e1f02c5",
   "metadata": {},
   "source": [
    "4. Count the number of vowel in a string using a for loop."
   ]
  },
  {
   "cell_type": "code",
   "execution_count": 8,
   "id": "3ea10da8-cf4e-4bf4-add3-777005627181",
   "metadata": {},
   "outputs": [
    {
     "name": "stdin",
     "output_type": "stream",
     "text": [
      "Enter Any String :  Sanket\n"
     ]
    },
    {
     "name": "stdout",
     "output_type": "stream",
     "text": [
      "2\n"
     ]
    }
   ],
   "source": [
    "vowels=\"aeiouAEIOU\"\n",
    "cnt=0\n",
    "str=input(\"Enter Any String : \")\n",
    "for i in str:\n",
    "    if i in vowels:\n",
    "        cnt+=1\n",
    "print(cnt)\n",
    "    "
   ]
  },
  {
   "cell_type": "markdown",
   "id": "19440756-e199-4ac9-b3a9-67038c1a0c11",
   "metadata": {},
   "source": [
    "5.Print a pattern using nested loop."
   ]
  },
  {
   "cell_type": "code",
   "execution_count": 17,
   "id": "cd3b6f93-3a8b-48a9-873d-500e81218cdb",
   "metadata": {},
   "outputs": [
    {
     "name": "stdout",
     "output_type": "stream",
     "text": [
      "* \n",
      "* * \n",
      "* * * \n",
      "* * * * \n"
     ]
    }
   ],
   "source": [
    "for i in range (1,5):\n",
    "    for j in range(1,i+1):\n",
    "        print(\"*\", end=\" \")\n",
    "    print()"
   ]
  },
  {
   "cell_type": "code",
   "execution_count": 18,
   "id": "b5b2b7f3-8bb4-4229-9adc-54933b0f3e75",
   "metadata": {},
   "outputs": [
    {
     "name": "stdout",
     "output_type": "stream",
     "text": [
      "* * * * * \n",
      "* * * * \n",
      "* * * \n",
      "* * \n",
      "* \n"
     ]
    }
   ],
   "source": [
    "size = 5\n",
    "for i in range(size, 0, -1):\n",
    "    print('* ' * i)\n"
   ]
  },
  {
   "cell_type": "code",
   "execution_count": 19,
   "id": "e9e50637-b470-4c9d-8460-5e7d2f90ad8b",
   "metadata": {},
   "outputs": [
    {
     "name": "stdout",
     "output_type": "stream",
     "text": [
      "* * * * * \n",
      "* * * * \n",
      "* * * \n",
      "* * \n",
      "* \n"
     ]
    }
   ],
   "source": [
    "size=5\n",
    "for i in range(size,0,-1):\n",
    "    for j in range(1,i+1):\n",
    "        print(\"*\", end=\" \")\n",
    "    print()"
   ]
  },
  {
   "cell_type": "code",
   "execution_count": 24,
   "id": "c7b1b365-83c2-4966-bd7a-e77773405b68",
   "metadata": {},
   "outputs": [
    {
     "name": "stdout",
     "output_type": "stream",
     "text": [
      "* * * * * \n",
      "* * * * \n",
      "* * * \n",
      "* * \n",
      "* \n"
     ]
    }
   ],
   "source": [
    "size=5\n",
    "for i in range (size,0,-1):\n",
    "    print(\"* \"* i)"
   ]
  },
  {
   "cell_type": "code",
   "execution_count": 30,
   "id": "62fd49fd-49e2-471c-a5f4-d78171a43375",
   "metadata": {},
   "outputs": [
    {
     "name": "stdout",
     "output_type": "stream",
     "text": [
      "* \n",
      "* * \n",
      "* * * \n",
      "* * * * \n",
      "* * * * * \n"
     ]
    }
   ],
   "source": [
    "for i in range (1,5+1):\n",
    "    print('* '*i)"
   ]
  },
  {
   "cell_type": "code",
   "execution_count": 28,
   "id": "8b33f516-07df-4836-8a59-f8674c39c009",
   "metadata": {},
   "outputs": [
    {
     "name": "stdout",
     "output_type": "stream",
     "text": [
      "    * \n",
      "   * * \n",
      "  * * * \n",
      " * * * * \n",
      "* * * * * \n"
     ]
    }
   ],
   "source": [
    "size = 5\n",
    "for i in range(1, size + 1):\n",
    "    print(' ' * (size - i) + '* ' * i)"
   ]
  },
  {
   "cell_type": "code",
   "execution_count": null,
   "id": "ead78a45-668d-423f-b6e6-d3767cb73e7f",
   "metadata": {},
   "outputs": [],
   "source": [
    "6.Generate a mltiplication table using nested loop."
   ]
  },
  {
   "cell_type": "code",
   "execution_count": 39,
   "id": "6f8ae841-db48-4673-964d-eef6327459e6",
   "metadata": {},
   "outputs": [
    {
     "name": "stdout",
     "output_type": "stream",
     "text": [
      "1\t2\t3\t4\t5\t6\t7\t8\t9\t10\t\n",
      "2\t4\t6\t8\t10\t12\t14\t16\t18\t20\t\n",
      "3\t6\t9\t12\t15\t18\t21\t24\t27\t30\t\n",
      "4\t8\t12\t16\t20\t24\t28\t32\t36\t40\t\n",
      "5\t10\t15\t20\t25\t30\t35\t40\t45\t50\t\n",
      "6\t12\t18\t24\t30\t36\t42\t48\t54\t60\t\n",
      "7\t14\t21\t28\t35\t42\t49\t56\t63\t70\t\n",
      "8\t16\t24\t32\t40\t48\t56\t64\t72\t80\t\n",
      "9\t18\t27\t36\t45\t54\t63\t72\t81\t90\t\n",
      "10\t20\t30\t40\t50\t60\t70\t80\t90\t100\t\n"
     ]
    }
   ],
   "source": [
    "for i in range(1,11):\n",
    "    for j in range(1,11):\n",
    "        print(i*j, end=\"\\t\")\n",
    "    print()"
   ]
  },
  {
   "cell_type": "code",
   "execution_count": null,
   "id": "b5f6e20d-0f4a-4feb-a107-4d4f4dbfdc96",
   "metadata": {},
   "outputs": [],
   "source": []
  }
 ],
 "metadata": {
  "kernelspec": {
   "display_name": "Python 3 (ipykernel)",
   "language": "python",
   "name": "python3"
  },
  "language_info": {
   "codemirror_mode": {
    "name": "ipython",
    "version": 3
   },
   "file_extension": ".py",
   "mimetype": "text/x-python",
   "name": "python",
   "nbconvert_exporter": "python",
   "pygments_lexer": "ipython3",
   "version": "3.10.8"
  }
 },
 "nbformat": 4,
 "nbformat_minor": 5
}
